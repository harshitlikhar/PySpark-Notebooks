{
 "cells": [
  {
   "cell_type": "markdown",
   "id": "81cc7d9d",
   "metadata": {},
   "source": [
    "<h2><a>PySpark</a></h2>"
   ]
  },
  {
   "cell_type": "markdown",
   "id": "1f00b474",
   "metadata": {},
   "source": [
    "<h3><a>Goals:</a></h3>\n",
    "\n",
    "- Import the dataset\n",
    "- Create a spark session\n",
    "- check the schema\n",
    "- Add a column\n",
    "- Drop a column\n",
    "- Rename a column\n"
   ]
  },
  {
   "cell_type": "code",
   "execution_count": 2,
   "id": "3b5f6c58",
   "metadata": {},
   "outputs": [
    {
     "name": "stdout",
     "output_type": "stream",
     "text": [
      "Requirement already satisfied: pyspark in /Users/harshitlikhar/opt/anaconda3/lib/python3.8/site-packages (3.3.0)\n",
      "Requirement already satisfied: py4j==0.10.9.5 in /Users/harshitlikhar/opt/anaconda3/lib/python3.8/site-packages (from pyspark) (0.10.9.5)\n",
      "\n",
      "\u001b[1m[\u001b[0m\u001b[34;49mnotice\u001b[0m\u001b[1;39;49m]\u001b[0m\u001b[39;49m A new release of pip available: \u001b[0m\u001b[31;49m22.1.2\u001b[0m\u001b[39;49m -> \u001b[0m\u001b[32;49m22.2.1\u001b[0m\n",
      "\u001b[1m[\u001b[0m\u001b[34;49mnotice\u001b[0m\u001b[1;39;49m]\u001b[0m\u001b[39;49m To update, run: \u001b[0m\u001b[32;49mpip install --upgrade pip\u001b[0m\n"
     ]
    }
   ],
   "source": [
    "# !pip install pyspark"
   ]
  },
  {
   "cell_type": "code",
   "execution_count": 6,
   "id": "b9e3af57",
   "metadata": {},
   "outputs": [],
   "source": [
    "import pyspark\n",
    "from pyspark.sql import SparkSession"
   ]
  },
  {
   "cell_type": "code",
   "execution_count": 8,
   "id": "283bb870",
   "metadata": {},
   "outputs": [
    {
     "name": "stderr",
     "output_type": "stream",
     "text": [
      "22/07/31 10:15:55 WARN Utils: Your hostname, harshits-MacBook-Air.local resolves to a loopback address: 127.0.0.1; using 192.168.0.10 instead (on interface en0)\n",
      "22/07/31 10:15:55 WARN Utils: Set SPARK_LOCAL_IP if you need to bind to another address\n",
      "22/07/31 10:15:57 WARN NativeCodeLoader: Unable to load native-hadoop library for your platform... using builtin-java classes where applicable\n",
      "Using Spark's default log4j profile: org/apache/spark/log4j-defaults.properties\n",
      "Setting default log level to \"WARN\".\n",
      "To adjust logging level use sc.setLogLevel(newLevel). For SparkR, use setLogLevel(newLevel).\n"
     ]
    }
   ],
   "source": [
    "spark = SparkSession.builder.appName('Practice').getOrCreate()"
   ]
  },
  {
   "cell_type": "code",
   "execution_count": 9,
   "id": "f64080a1",
   "metadata": {},
   "outputs": [
    {
     "data": {
      "text/html": [
       "\n",
       "            <div>\n",
       "                <p><b>SparkSession - in-memory</b></p>\n",
       "                \n",
       "        <div>\n",
       "            <p><b>SparkContext</b></p>\n",
       "\n",
       "            <p><a href=\"http://192.168.0.10:4040\">Spark UI</a></p>\n",
       "\n",
       "            <dl>\n",
       "              <dt>Version</dt>\n",
       "                <dd><code>v3.1.2</code></dd>\n",
       "              <dt>Master</dt>\n",
       "                <dd><code>local[*]</code></dd>\n",
       "              <dt>AppName</dt>\n",
       "                <dd><code>Practice</code></dd>\n",
       "            </dl>\n",
       "        </div>\n",
       "        \n",
       "            </div>\n",
       "        "
      ],
      "text/plain": [
       "<pyspark.sql.session.SparkSession at 0x7ff058057dc0>"
      ]
     },
     "execution_count": 9,
     "metadata": {},
     "output_type": "execute_result"
    }
   ],
   "source": [
    "spark"
   ]
  },
  {
   "cell_type": "code",
   "execution_count": 59,
   "id": "f0729a92",
   "metadata": {},
   "outputs": [],
   "source": [
    "df = spark.read.csv('../weight-height.csv', header =True, inferSchema=True)"
   ]
  },
  {
   "cell_type": "code",
   "execution_count": 60,
   "id": "0684d350",
   "metadata": {},
   "outputs": [
    {
     "data": {
      "text/plain": [
       "DataFrame[Gender: string, Height: double, Weight: double]"
      ]
     },
     "execution_count": 60,
     "metadata": {},
     "output_type": "execute_result"
    }
   ],
   "source": [
    "df"
   ]
  },
  {
   "cell_type": "code",
   "execution_count": 61,
   "id": "666972ab",
   "metadata": {},
   "outputs": [],
   "source": [
    "# df = spark.read.option('header','true').csv('../weight-height.csv',inferSchema=True)"
   ]
  },
  {
   "cell_type": "code",
   "execution_count": 62,
   "id": "6192706a",
   "metadata": {},
   "outputs": [
    {
     "name": "stdout",
     "output_type": "stream",
     "text": [
      "+------+----------------+----------------+\n",
      "|Gender|          Height|          Weight|\n",
      "+------+----------------+----------------+\n",
      "|  Male| 73.847017017515|241.893563180437|\n",
      "|  Male|68.7819040458903|  162.3104725213|\n",
      "|  Male|74.1101053917849|  212.7408555565|\n",
      "|  Male|71.7309784033377|220.042470303077|\n",
      "|  Male|69.8817958611153|206.349800623871|\n",
      "|  Male|67.2530156878065|152.212155757083|\n",
      "|  Male|68.7850812516616|183.927888604031|\n",
      "|  Male|68.3485155115879|167.971110489509|\n",
      "|  Male| 67.018949662883| 175.92944039571|\n",
      "|  Male|63.4564939783664|156.399676387112|\n",
      "|  Male|71.1953822829745|186.604925560358|\n",
      "|  Male|71.6408051192206|213.741169489411|\n",
      "|  Male|64.7663291334055|167.127461073476|\n",
      "|  Male|69.2830700967204|189.446181386738|\n",
      "|  Male|69.2437322298112|186.434168021239|\n",
      "|  Male|67.6456197004212|172.186930058117|\n",
      "|  Male|72.4183166259878|196.028506330482|\n",
      "|  Male| 63.974325721061| 172.88347020878|\n",
      "|  Male|69.6400598997523| 185.98395757313|\n",
      "|  Male|67.9360048540095|182.426648013226|\n",
      "+------+----------------+----------------+\n",
      "only showing top 20 rows\n",
      "\n"
     ]
    }
   ],
   "source": [
    "df.show()"
   ]
  },
  {
   "cell_type": "code",
   "execution_count": 63,
   "id": "5ddd03df",
   "metadata": {},
   "outputs": [
    {
     "data": {
      "text/plain": [
       "pyspark.sql.dataframe.DataFrame"
      ]
     },
     "execution_count": 63,
     "metadata": {},
     "output_type": "execute_result"
    }
   ],
   "source": [
    "type(df)"
   ]
  },
  {
   "cell_type": "code",
   "execution_count": 64,
   "id": "d62b3b15",
   "metadata": {},
   "outputs": [
    {
     "name": "stdout",
     "output_type": "stream",
     "text": [
      "root\n",
      " |-- Gender: string (nullable = true)\n",
      " |-- Height: double (nullable = true)\n",
      " |-- Weight: double (nullable = true)\n",
      "\n"
     ]
    }
   ],
   "source": [
    "df.printSchema()"
   ]
  },
  {
   "cell_type": "code",
   "execution_count": 65,
   "id": "5e2eea99",
   "metadata": {},
   "outputs": [
    {
     "data": {
      "text/plain": [
       "['Gender', 'Height', 'Weight']"
      ]
     },
     "execution_count": 65,
     "metadata": {},
     "output_type": "execute_result"
    }
   ],
   "source": [
    "df.columns"
   ]
  },
  {
   "cell_type": "code",
   "execution_count": 66,
   "id": "0ed1023e",
   "metadata": {},
   "outputs": [
    {
     "data": {
      "text/plain": [
       "[Row(Gender='Male', Height=73.847017017515, Weight=241.893563180437),\n",
       " Row(Gender='Male', Height=68.7819040458903, Weight=162.3104725213),\n",
       " Row(Gender='Male', Height=74.1101053917849, Weight=212.7408555565),\n",
       " Row(Gender='Male', Height=71.7309784033377, Weight=220.042470303077),\n",
       " Row(Gender='Male', Height=69.8817958611153, Weight=206.349800623871)]"
      ]
     },
     "execution_count": 66,
     "metadata": {},
     "output_type": "execute_result"
    }
   ],
   "source": [
    "df.head(5)"
   ]
  },
  {
   "cell_type": "code",
   "execution_count": 67,
   "id": "7b8afe42",
   "metadata": {},
   "outputs": [
    {
     "name": "stdout",
     "output_type": "stream",
     "text": [
      "+------+----------------+\n",
      "|Gender|          Height|\n",
      "+------+----------------+\n",
      "|  Male| 73.847017017515|\n",
      "|  Male|68.7819040458903|\n",
      "|  Male|74.1101053917849|\n",
      "|  Male|71.7309784033377|\n",
      "|  Male|69.8817958611153|\n",
      "|  Male|67.2530156878065|\n",
      "|  Male|68.7850812516616|\n",
      "|  Male|68.3485155115879|\n",
      "|  Male| 67.018949662883|\n",
      "|  Male|63.4564939783664|\n",
      "|  Male|71.1953822829745|\n",
      "|  Male|71.6408051192206|\n",
      "|  Male|64.7663291334055|\n",
      "|  Male|69.2830700967204|\n",
      "|  Male|69.2437322298112|\n",
      "|  Male|67.6456197004212|\n",
      "|  Male|72.4183166259878|\n",
      "|  Male| 63.974325721061|\n",
      "|  Male|69.6400598997523|\n",
      "|  Male|67.9360048540095|\n",
      "+------+----------------+\n",
      "only showing top 20 rows\n",
      "\n"
     ]
    }
   ],
   "source": [
    "df.select(['Gender','Height']).show()"
   ]
  },
  {
   "cell_type": "code",
   "execution_count": 68,
   "id": "75b02f1f",
   "metadata": {},
   "outputs": [
    {
     "data": {
      "text/plain": [
       "[('Gender', 'string'), ('Height', 'double'), ('Weight', 'double')]"
      ]
     },
     "execution_count": 68,
     "metadata": {},
     "output_type": "execute_result"
    }
   ],
   "source": [
    "df.dtypes"
   ]
  },
  {
   "cell_type": "code",
   "execution_count": 69,
   "id": "494d6645",
   "metadata": {},
   "outputs": [
    {
     "name": "stdout",
     "output_type": "stream",
     "text": [
      "+-------+------+-----------------+------------------+\n",
      "|summary|Gender|           Height|            Weight|\n",
      "+-------+------+-----------------+------------------+\n",
      "|  count| 10000|            10000|             10000|\n",
      "|   mean|  null|66.36755975482106|161.44035683283076|\n",
      "| stddev|  null|3.847528120773333|32.108439006519674|\n",
      "|    min|Female| 54.2631333250971|   64.700126712753|\n",
      "|    max|  Male| 78.9987423463896|  269.989698505106|\n",
      "+-------+------+-----------------+------------------+\n",
      "\n"
     ]
    }
   ],
   "source": [
    "df.describe().show()"
   ]
  },
  {
   "cell_type": "code",
   "execution_count": 70,
   "id": "e600624b",
   "metadata": {},
   "outputs": [],
   "source": [
    "df = df.withColumn('BMI',(703*(df['Weight']/df['Height'])))"
   ]
  },
  {
   "cell_type": "code",
   "execution_count": 71,
   "id": "d93958db",
   "metadata": {},
   "outputs": [
    {
     "name": "stdout",
     "output_type": "stream",
     "text": [
      "+------+----------------+----------------+------------------+\n",
      "|Gender|          Height|          Weight|               BMI|\n",
      "+------+----------------+----------------+------------------+\n",
      "|  Male| 73.847017017515|241.893563180437| 2302.749410656825|\n",
      "|  Male|68.7819040458903|  162.3104725213|1658.9285185583867|\n",
      "|  Male|74.1101053917849|  212.7408555565|2018.0354712165592|\n",
      "|  Male|71.7309784033377|220.042470303077| 2156.527905603826|\n",
      "|  Male|69.8817958611153|206.349800623871|2075.8469076393617|\n",
      "|  Male|67.2530156878065|152.212155757083|1591.0832310324224|\n",
      "|  Male|68.7850812516616|183.927888604031| 1879.787060446488|\n",
      "|  Male|68.3485155115879|167.971110489509|  1727.67015918736|\n",
      "|  Male| 67.018949662883| 175.92944039571| 1845.424275079034|\n",
      "|  Male|63.4564939783664|156.399676387112|1732.6669913031053|\n",
      "|  Male|71.1953822829745|186.604925560358|1842.5810559950112|\n",
      "|  Male|71.6408051192206|213.741169489411|2097.4086193057383|\n",
      "|  Male|64.7663291334055|167.127461073476| 1814.069234843414|\n",
      "|  Male|69.2830700967204|189.446181386738|1922.2685329757219|\n",
      "|  Male|69.2437322298112|186.434168021239|1892.7809911220374|\n",
      "|  Male|67.6456197004212|172.186930058117| 1789.434591137356|\n",
      "|  Male|72.4183166259878|196.028506330482|1902.9445362842846|\n",
      "|  Male| 63.974325721061| 172.88347020878|1899.7789845678842|\n",
      "|  Male|69.6400598997523| 185.98395757313|1877.4642405839663|\n",
      "|  Male|67.9360048540095|182.426648013226|1887.7461786116346|\n",
      "+------+----------------+----------------+------------------+\n",
      "only showing top 20 rows\n",
      "\n"
     ]
    }
   ],
   "source": [
    "df.show()"
   ]
  },
  {
   "cell_type": "code",
   "execution_count": 72,
   "id": "b5cfe9f3",
   "metadata": {},
   "outputs": [],
   "source": [
    "# df = df.drop('BMI')"
   ]
  },
  {
   "cell_type": "code",
   "execution_count": 73,
   "id": "fc47b899",
   "metadata": {},
   "outputs": [],
   "source": [
    "# df.show()"
   ]
  },
  {
   "cell_type": "code",
   "execution_count": 74,
   "id": "cd8ccf69",
   "metadata": {},
   "outputs": [],
   "source": [
    "df = df.withColumnRenamed('Height','Heights')"
   ]
  },
  {
   "cell_type": "code",
   "execution_count": 75,
   "id": "06c5b823",
   "metadata": {},
   "outputs": [
    {
     "name": "stdout",
     "output_type": "stream",
     "text": [
      "+------+----------------+----------------+------------------+\n",
      "|Gender|         Heights|          Weight|               BMI|\n",
      "+------+----------------+----------------+------------------+\n",
      "|  Male| 73.847017017515|241.893563180437| 2302.749410656825|\n",
      "|  Male|68.7819040458903|  162.3104725213|1658.9285185583867|\n",
      "|  Male|74.1101053917849|  212.7408555565|2018.0354712165592|\n",
      "|  Male|71.7309784033377|220.042470303077| 2156.527905603826|\n",
      "|  Male|69.8817958611153|206.349800623871|2075.8469076393617|\n",
      "|  Male|67.2530156878065|152.212155757083|1591.0832310324224|\n",
      "|  Male|68.7850812516616|183.927888604031| 1879.787060446488|\n",
      "|  Male|68.3485155115879|167.971110489509|  1727.67015918736|\n",
      "|  Male| 67.018949662883| 175.92944039571| 1845.424275079034|\n",
      "|  Male|63.4564939783664|156.399676387112|1732.6669913031053|\n",
      "|  Male|71.1953822829745|186.604925560358|1842.5810559950112|\n",
      "|  Male|71.6408051192206|213.741169489411|2097.4086193057383|\n",
      "|  Male|64.7663291334055|167.127461073476| 1814.069234843414|\n",
      "|  Male|69.2830700967204|189.446181386738|1922.2685329757219|\n",
      "|  Male|69.2437322298112|186.434168021239|1892.7809911220374|\n",
      "|  Male|67.6456197004212|172.186930058117| 1789.434591137356|\n",
      "|  Male|72.4183166259878|196.028506330482|1902.9445362842846|\n",
      "|  Male| 63.974325721061| 172.88347020878|1899.7789845678842|\n",
      "|  Male|69.6400598997523| 185.98395757313|1877.4642405839663|\n",
      "|  Male|67.9360048540095|182.426648013226|1887.7461786116346|\n",
      "+------+----------------+----------------+------------------+\n",
      "only showing top 20 rows\n",
      "\n"
     ]
    }
   ],
   "source": [
    "df.show()"
   ]
  },
  {
   "cell_type": "code",
   "execution_count": null,
   "id": "e28b2257",
   "metadata": {},
   "outputs": [],
   "source": []
  }
 ],
 "metadata": {
  "kernelspec": {
   "display_name": "Python 3 (ipykernel)",
   "language": "python",
   "name": "python3"
  },
  "language_info": {
   "codemirror_mode": {
    "name": "ipython",
    "version": 3
   },
   "file_extension": ".py",
   "mimetype": "text/x-python",
   "name": "python",
   "nbconvert_exporter": "python",
   "pygments_lexer": "ipython3",
   "version": "3.8.13"
  }
 },
 "nbformat": 4,
 "nbformat_minor": 5
}
