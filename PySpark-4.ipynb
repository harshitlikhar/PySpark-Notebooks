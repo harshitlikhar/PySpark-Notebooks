{
 "cells": [
  {
   "cell_type": "markdown",
   "id": "100c711b",
   "metadata": {},
   "source": [
    "<h3><a>Goal</a></h3>\n",
    "\n",
    "- Basic ML Implementation\n",
    "- Linear Regression"
   ]
  },
  {
   "cell_type": "code",
   "execution_count": 1,
   "id": "6699ec26",
   "metadata": {},
   "outputs": [],
   "source": [
    "import pyspark\n",
    "from pyspark.sql import SparkSession"
   ]
  },
  {
   "cell_type": "code",
   "execution_count": 2,
   "id": "9a130e9c",
   "metadata": {},
   "outputs": [
    {
     "name": "stderr",
     "output_type": "stream",
     "text": [
      "22/08/01 01:40:49 WARN Utils: Your hostname, harshits-MacBook-Air.local resolves to a loopback address: 127.0.0.1; using 192.168.0.10 instead (on interface en0)\n",
      "22/08/01 01:40:49 WARN Utils: Set SPARK_LOCAL_IP if you need to bind to another address\n",
      "22/08/01 01:40:50 WARN NativeCodeLoader: Unable to load native-hadoop library for your platform... using builtin-java classes where applicable\n",
      "Using Spark's default log4j profile: org/apache/spark/log4j-defaults.properties\n",
      "Setting default log level to \"WARN\".\n",
      "To adjust logging level use sc.setLogLevel(newLevel). For SparkR, use setLogLevel(newLevel).\n",
      "22/08/01 01:40:55 WARN Utils: Service 'SparkUI' could not bind on port 4040. Attempting port 4041.\n",
      "22/08/01 01:40:55 WARN Utils: Service 'SparkUI' could not bind on port 4041. Attempting port 4042.\n",
      "22/08/01 01:40:55 WARN Utils: Service 'SparkUI' could not bind on port 4042. Attempting port 4043.\n"
     ]
    }
   ],
   "source": [
    "spark = SparkSession.builder.appName('practice-ml').getOrCreate()"
   ]
  },
  {
   "cell_type": "code",
   "execution_count": 6,
   "id": "9ed51f21",
   "metadata": {},
   "outputs": [
    {
     "name": "stderr",
     "output_type": "stream",
     "text": [
      "\r",
      "[Stage 2:>                                                          (0 + 1) / 1]\r",
      "\r",
      "                                                                                \r"
     ]
    }
   ],
   "source": [
    "df = spark.read.csv('../../weight-height.csv', header=True, inferSchema=True)"
   ]
  },
  {
   "cell_type": "code",
   "execution_count": 8,
   "id": "5d717e26",
   "metadata": {},
   "outputs": [
    {
     "name": "stdout",
     "output_type": "stream",
     "text": [
      "+------+----------------+----------------+\n",
      "|Gender|          Height|          Weight|\n",
      "+------+----------------+----------------+\n",
      "|  Male| 73.847017017515|241.893563180437|\n",
      "|  Male|68.7819040458903|  162.3104725213|\n",
      "|  Male|74.1101053917849|  212.7408555565|\n",
      "|  Male|71.7309784033377|220.042470303077|\n",
      "|  Male|69.8817958611153|206.349800623871|\n",
      "|  Male|67.2530156878065|152.212155757083|\n",
      "|  Male|68.7850812516616|183.927888604031|\n",
      "|  Male|68.3485155115879|167.971110489509|\n",
      "|  Male| 67.018949662883| 175.92944039571|\n",
      "|  Male|63.4564939783664|156.399676387112|\n",
      "|  Male|71.1953822829745|186.604925560358|\n",
      "|  Male|71.6408051192206|213.741169489411|\n",
      "|  Male|64.7663291334055|167.127461073476|\n",
      "|  Male|69.2830700967204|189.446181386738|\n",
      "|  Male|69.2437322298112|186.434168021239|\n",
      "|  Male|67.6456197004212|172.186930058117|\n",
      "|  Male|72.4183166259878|196.028506330482|\n",
      "|  Male| 63.974325721061| 172.88347020878|\n",
      "|  Male|69.6400598997523| 185.98395757313|\n",
      "|  Male|67.9360048540095|182.426648013226|\n",
      "+------+----------------+----------------+\n",
      "only showing top 20 rows\n",
      "\n"
     ]
    }
   ],
   "source": [
    "df.show()"
   ]
  },
  {
   "cell_type": "code",
   "execution_count": 9,
   "id": "3faec0d7",
   "metadata": {},
   "outputs": [
    {
     "name": "stdout",
     "output_type": "stream",
     "text": [
      "root\n",
      " |-- Gender: string (nullable = true)\n",
      " |-- Height: double (nullable = true)\n",
      " |-- Weight: double (nullable = true)\n",
      "\n"
     ]
    }
   ],
   "source": [
    "df.printSchema()"
   ]
  },
  {
   "cell_type": "code",
   "execution_count": 10,
   "id": "9f195083",
   "metadata": {},
   "outputs": [
    {
     "data": {
      "text/plain": [
       "['Gender', 'Height', 'Weight']"
      ]
     },
     "execution_count": 10,
     "metadata": {},
     "output_type": "execute_result"
    }
   ],
   "source": [
    "df.columns"
   ]
  },
  {
   "cell_type": "code",
   "execution_count": 15,
   "id": "4b0735bf",
   "metadata": {},
   "outputs": [],
   "source": [
    "df = df.withColumn('BMI',(703*(df['Weight']/df['Height'])))"
   ]
  },
  {
   "cell_type": "code",
   "execution_count": 11,
   "id": "c70efb52",
   "metadata": {},
   "outputs": [],
   "source": [
    "from pyspark.ml.feature import VectorAssembler"
   ]
  },
  {
   "cell_type": "code",
   "execution_count": 16,
   "id": "e42050a1",
   "metadata": {},
   "outputs": [],
   "source": [
    "featureassembler=VectorAssembler(inputCols=[\"Height\",\"Weight\"],outputCol=\"Independent Features\")"
   ]
  },
  {
   "cell_type": "code",
   "execution_count": 17,
   "id": "a4cccb02",
   "metadata": {},
   "outputs": [],
   "source": [
    "output=featureassembler.transform(df)"
   ]
  },
  {
   "cell_type": "code",
   "execution_count": 18,
   "id": "c1ce515d",
   "metadata": {},
   "outputs": [
    {
     "name": "stdout",
     "output_type": "stream",
     "text": [
      "+------+----------------+----------------+------------------+--------------------+\n",
      "|Gender|          Height|          Weight|               BMI|Independent Features|\n",
      "+------+----------------+----------------+------------------+--------------------+\n",
      "|  Male| 73.847017017515|241.893563180437| 2302.749410656825|[73.847017017515,...|\n",
      "|  Male|68.7819040458903|  162.3104725213|1658.9285185583867|[68.7819040458903...|\n",
      "|  Male|74.1101053917849|  212.7408555565|2018.0354712165592|[74.1101053917849...|\n",
      "|  Male|71.7309784033377|220.042470303077| 2156.527905603826|[71.7309784033377...|\n",
      "|  Male|69.8817958611153|206.349800623871|2075.8469076393617|[69.8817958611153...|\n",
      "|  Male|67.2530156878065|152.212155757083|1591.0832310324224|[67.2530156878065...|\n",
      "|  Male|68.7850812516616|183.927888604031| 1879.787060446488|[68.7850812516616...|\n",
      "|  Male|68.3485155115879|167.971110489509|  1727.67015918736|[68.3485155115879...|\n",
      "|  Male| 67.018949662883| 175.92944039571| 1845.424275079034|[67.018949662883,...|\n",
      "|  Male|63.4564939783664|156.399676387112|1732.6669913031053|[63.4564939783664...|\n",
      "|  Male|71.1953822829745|186.604925560358|1842.5810559950112|[71.1953822829745...|\n",
      "|  Male|71.6408051192206|213.741169489411|2097.4086193057383|[71.6408051192206...|\n",
      "|  Male|64.7663291334055|167.127461073476| 1814.069234843414|[64.7663291334055...|\n",
      "|  Male|69.2830700967204|189.446181386738|1922.2685329757219|[69.2830700967204...|\n",
      "|  Male|69.2437322298112|186.434168021239|1892.7809911220374|[69.2437322298112...|\n",
      "|  Male|67.6456197004212|172.186930058117| 1789.434591137356|[67.6456197004212...|\n",
      "|  Male|72.4183166259878|196.028506330482|1902.9445362842846|[72.4183166259878...|\n",
      "|  Male| 63.974325721061| 172.88347020878|1899.7789845678842|[63.974325721061,...|\n",
      "|  Male|69.6400598997523| 185.98395757313|1877.4642405839663|[69.6400598997523...|\n",
      "|  Male|67.9360048540095|182.426648013226|1887.7461786116346|[67.9360048540095...|\n",
      "+------+----------------+----------------+------------------+--------------------+\n",
      "only showing top 20 rows\n",
      "\n"
     ]
    }
   ],
   "source": [
    "output.show()"
   ]
  },
  {
   "cell_type": "code",
   "execution_count": 19,
   "id": "74e91daf",
   "metadata": {},
   "outputs": [],
   "source": [
    "finalized_data=output.select(\"Independent Features\",\"BMI\")"
   ]
  },
  {
   "cell_type": "code",
   "execution_count": 20,
   "id": "1c278d19",
   "metadata": {},
   "outputs": [
    {
     "name": "stdout",
     "output_type": "stream",
     "text": [
      "+--------------------+------------------+\n",
      "|Independent Features|               BMI|\n",
      "+--------------------+------------------+\n",
      "|[73.847017017515,...| 2302.749410656825|\n",
      "|[68.7819040458903...|1658.9285185583867|\n",
      "|[74.1101053917849...|2018.0354712165592|\n",
      "|[71.7309784033377...| 2156.527905603826|\n",
      "|[69.8817958611153...|2075.8469076393617|\n",
      "|[67.2530156878065...|1591.0832310324224|\n",
      "|[68.7850812516616...| 1879.787060446488|\n",
      "|[68.3485155115879...|  1727.67015918736|\n",
      "|[67.018949662883,...| 1845.424275079034|\n",
      "|[63.4564939783664...|1732.6669913031053|\n",
      "|[71.1953822829745...|1842.5810559950112|\n",
      "|[71.6408051192206...|2097.4086193057383|\n",
      "|[64.7663291334055...| 1814.069234843414|\n",
      "|[69.2830700967204...|1922.2685329757219|\n",
      "|[69.2437322298112...|1892.7809911220374|\n",
      "|[67.6456197004212...| 1789.434591137356|\n",
      "|[72.4183166259878...|1902.9445362842846|\n",
      "|[63.974325721061,...|1899.7789845678842|\n",
      "|[69.6400598997523...|1877.4642405839663|\n",
      "|[67.9360048540095...|1887.7461786116346|\n",
      "+--------------------+------------------+\n",
      "only showing top 20 rows\n",
      "\n"
     ]
    }
   ],
   "source": [
    "finalized_data.show()"
   ]
  },
  {
   "cell_type": "code",
   "execution_count": 21,
   "id": "230e133f",
   "metadata": {},
   "outputs": [
    {
     "name": "stderr",
     "output_type": "stream",
     "text": [
      "22/08/01 01:55:24 WARN Instrumentation: [2db01db9] regParam is zero, which might cause numerical instability and overfitting.\n",
      "22/08/01 01:55:25 WARN BLAS: Failed to load implementation from: com.github.fommil.netlib.NativeSystemBLAS\n",
      "22/08/01 01:55:25 WARN BLAS: Failed to load implementation from: com.github.fommil.netlib.NativeRefBLAS\n",
      "22/08/01 01:55:25 WARN LAPACK: Failed to load implementation from: com.github.fommil.netlib.NativeSystemLAPACK\n",
      "22/08/01 01:55:25 WARN LAPACK: Failed to load implementation from: com.github.fommil.netlib.NativeRefLAPACK\n",
      "                                                                                \r"
     ]
    }
   ],
   "source": [
    "from pyspark.ml.regression import LinearRegression\n",
    "\n",
    "##train test split\n",
    "train_data,test_data=finalized_data.randomSplit([0.75,0.25])\n",
    "\n",
    "regressor=LinearRegression(featuresCol='Independent Features', labelCol='BMI')\n",
    "regressor=regressor.fit(train_data)"
   ]
  },
  {
   "cell_type": "code",
   "execution_count": 22,
   "id": "8c774e39",
   "metadata": {},
   "outputs": [
    {
     "data": {
      "text/plain": [
       "DenseVector([-25.6187, 10.6136])"
      ]
     },
     "execution_count": 22,
     "metadata": {},
     "output_type": "execute_result"
    }
   ],
   "source": [
    "regressor.coefficients"
   ]
  },
  {
   "cell_type": "code",
   "execution_count": 23,
   "id": "708521d6",
   "metadata": {},
   "outputs": [
    {
     "data": {
      "text/plain": [
       "1684.243735932746"
      ]
     },
     "execution_count": 23,
     "metadata": {},
     "output_type": "execute_result"
    }
   ],
   "source": [
    "regressor.intercept"
   ]
  },
  {
   "cell_type": "code",
   "execution_count": 24,
   "id": "c5dbdd6e",
   "metadata": {},
   "outputs": [],
   "source": [
    "### Prediction\n",
    "pred_results=regressor.evaluate(test_data)"
   ]
  },
  {
   "cell_type": "code",
   "execution_count": 25,
   "id": "480053f0",
   "metadata": {},
   "outputs": [
    {
     "name": "stdout",
     "output_type": "stream",
     "text": [
      "+--------------------+------------------+------------------+\n",
      "|Independent Features|               BMI|        prediction|\n",
      "+--------------------+------------------+------------------+\n",
      "|[55.6682021205121...| 871.1385819351649| 990.2524172150123|\n",
      "|[55.7397368200335...|1363.6545166183123|1403.8310095270956|\n",
      "|[56.1053695899164...|1093.8543930707967|1173.4554685199382|\n",
      "|[56.741741124191,...|1282.8115899155844|1329.5348795934356|\n",
      "|[56.7644564465812...| 980.5358792298916| 1070.340230114081|\n",
      "|[56.789386413216,...| 1180.073423403068|1241.1509536884985|\n",
      "|[56.8222398387379...|1261.6870864817054|1310.9093655148272|\n",
      "|[56.8560821293767...|1203.8743648963987| 1261.061085534678|\n",
      "|[56.9751332313244...|1100.2414732924942|1171.0311563099808|\n",
      "|[57.1658400564674...|1303.6025849125224|1344.8277533239027|\n",
      "|[57.3130235163555...|1151.4858481727726|1212.3287947383237|\n",
      "|[57.3139027398949...|1166.9550789908662|1225.7071294243574|\n",
      "|[57.5535052100887...|  1321.04268010461|1357.6800910771858|\n",
      "|[57.598029724148,...|1198.3483418531648| 1250.733342831676|\n",
      "|[57.6548850278643...|1205.6278651143307|1256.6418921052734|\n",
      "|[57.6994920729147...|  1123.62872007043| 1184.879585511831|\n",
      "|[57.7985310479726...|1366.4524006143863|1395.9152179965527|\n",
      "|[57.8007687381103...|1048.2947948514113|1118.2626536128973|\n",
      "|[57.8073228489915...|1309.8104095747854| 1346.436913969038|\n",
      "|[57.8372689542339...| 1285.238238366276|1324.8053826363493|\n",
      "+--------------------+------------------+------------------+\n",
      "only showing top 20 rows\n",
      "\n"
     ]
    }
   ],
   "source": [
    "pred_results.predictions.show()"
   ]
  },
  {
   "cell_type": "code",
   "execution_count": 26,
   "id": "ca6a276c",
   "metadata": {},
   "outputs": [
    {
     "data": {
      "text/plain": [
       "(11.538579927490238, 235.98786561810118)"
      ]
     },
     "execution_count": 26,
     "metadata": {},
     "output_type": "execute_result"
    }
   ],
   "source": [
    "pred_results.meanAbsoluteError,pred_results.meanSquaredError"
   ]
  },
  {
   "cell_type": "code",
   "execution_count": null,
   "id": "065ddec3",
   "metadata": {},
   "outputs": [],
   "source": []
  }
 ],
 "metadata": {
  "kernelspec": {
   "display_name": "Python 3",
   "language": "python",
   "name": "python3"
  },
  "language_info": {
   "codemirror_mode": {
    "name": "ipython",
    "version": 3
   },
   "file_extension": ".py",
   "mimetype": "text/x-python",
   "name": "python",
   "nbconvert_exporter": "python",
   "pygments_lexer": "ipython3",
   "version": "3.8.8"
  }
 },
 "nbformat": 4,
 "nbformat_minor": 5
}
